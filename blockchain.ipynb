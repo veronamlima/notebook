{
 "cells": [
  {
   "cell_type": "code",
   "execution_count": 9,
   "metadata": {},
   "outputs": [],
   "source": [
    "#Block\n",
    "blockchain = [8011216875737636310]\n",
    "blocks = 1\n",
    "block= ['block0',[\"genesis\"]]\n",
    "\n",
    "#EXECUTING THIS RESETS THE CHAIN\n",
    "\n",
    "def transact(origin_key,destiny_key,content_sn):\n",
    "    \n",
    "    previous_hash = blockchain[-1]\n",
    "    \n",
    "    transaction_hash = hash(\"{}{}{}\".format(origin_key,destiny_key,content_sn))\n",
    "    \n",
    "    block_hash = hash('{}{}'.format(previous_hash,transaction_hash))\n",
    "    \n",
    "    print(block_hash)\n",
    "    \n",
    "    blockchain.append(block_hash)\n",
    "\n",
    "    #hash count\n",
    "    global blocks\n",
    "    \n",
    "    blocks = blocks + 1\n",
    "    \n",
    "    #creating blocks database\n",
    "    \n",
    "    block.append([origin_key,destiny_key,content_sn])\n",
    "    \n",
    "    #block explorer\n",
    "    \n",
    "def blockData(block):\n",
    "    print ('key origem:{}'.format(block[0]))\n",
    "    print ('key destino:{}'.format(block[1]))\n",
    "    print ('serial number:{}'.format(block[2]))\n"
   ]
  },
  {
   "cell_type": "code",
   "execution_count": 10,
   "metadata": {},
   "outputs": [
    {
     "name": "stdout",
     "output_type": "stream",
     "text": [
      "-1519399004265885979\n",
      "[8011216875737636310, -1519399004265885979]\n",
      "2\n"
     ]
    }
   ],
   "source": [
    "transact('As$Jd3%afkajf14d4','aAS4E353@#4TW','SN647338289174')\n",
    "print(blockchain)\n",
    "print(blocks)"
   ]
  },
  {
   "cell_type": "code",
   "execution_count": 11,
   "metadata": {},
   "outputs": [
    {
     "name": "stdout",
     "output_type": "stream",
     "text": [
      "key origem:As$Jd3%afkajf14d4\n",
      "key destino:aAS4E353@#4TW\n",
      "serial number:SN647338289174\n"
     ]
    }
   ],
   "source": [
    "blockData(block[2])"
   ]
  },
  {
   "cell_type": "code",
   "execution_count": 14,
   "metadata": {},
   "outputs": [
    {
     "data": {
      "text/plain": [
       "[8011216875737636310, -1519399004265885979]"
      ]
     },
     "execution_count": 14,
     "metadata": {},
     "output_type": "execute_result"
    }
   ],
   "source": [
    "blockchain"
   ]
  },
  {
   "cell_type": "code",
   "execution_count": 15,
   "metadata": {},
   "outputs": [
    {
     "data": {
      "text/plain": [
       "2"
      ]
     },
     "execution_count": 15,
     "metadata": {},
     "output_type": "execute_result"
    }
   ],
   "source": [
    "blocks"
   ]
  }
 ],
 "metadata": {
  "kernelspec": {
   "display_name": "Python 3",
   "language": "python",
   "name": "python3"
  },
  "language_info": {
   "codemirror_mode": {
    "name": "ipython",
    "version": 3
   },
   "file_extension": ".py",
   "mimetype": "text/x-python",
   "name": "python",
   "nbconvert_exporter": "python",
   "pygments_lexer": "ipython3",
   "version": "3.6.5"
  }
 },
 "nbformat": 4,
 "nbformat_minor": 2
}
