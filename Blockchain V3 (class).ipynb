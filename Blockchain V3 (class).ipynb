{
 "cells": [
  {
   "cell_type": "code",
   "execution_count": 1,
   "metadata": {},
   "outputs": [],
   "source": [
    "#Block\n",
    "blockchain = [hash('Genesis')]\n",
    "blocks = 0\n",
    "block= [\"genesis\"]\n",
    "\n",
    "#EXECUTING THIS RESETS THE CHAIN\n",
    "\n",
    "def transact(origin_key,destiny_key,content_sn):\n",
    "    \n",
    "    if content_sn in origin_key:\n",
    "    \n",
    "        previous_hash = blockchain[-1]\n",
    "        transaction_hash = hash(\"{}{}{}\".format(origin_key,destiny_key,content_sn))\n",
    "        block_hash = hash('{}{}'.format(previous_hash,transaction_hash))\n",
    "        print('Part sent!')\n",
    "        blockchain.append(block_hash)\n",
    "        \n",
    "        #transfering the part\n",
    "        \n",
    "        origin_key.pop(origin_key.index(content_sn))\n",
    "        destiny_key.append(content_sn)\n",
    "        \n",
    "\n",
    "    #hash count\n",
    "    \n",
    "        global blocks\n",
    "        blocks = blocks + 1\n",
    "    \n",
    "    #creating blocks database\n",
    "    \n",
    "        block.append([origin_key,destiny_key,content_sn])\n",
    "    \n",
    "    else:\n",
    "        \n",
    "        print(\"content not in your ledger!\")\n",
    "        \n",
    "     #block explorer\n",
    "    \n",
    "def blockData(block):\n",
    "    \n",
    "    print ('key origem:{}'.format(block[0][0]))\n",
    "    print ('key destino:{}'.format(block[1][0]))\n",
    "    print ('serial number:{}'.format(block[2]))\n",
    "    \n",
    "    #Wallet\n",
    "\n",
    "def wallet(key):\n",
    "    for item in key:\n",
    "        print(item)\n",
    "\n",
    "    #open wallet\n",
    "    \n",
    "def generate_wallet():\n",
    "    import string\n",
    "    import random\n",
    "    print('Your wallet is: {}'.format(''.join(random.choices(string.ascii_uppercase + string.digits, k=8))))\n",
    "    print('Keep it safe!')\n",
    "\n",
    "#criar def Register(key)\n",
    "    "
   ]
  },
  {
   "cell_type": "code",
   "execution_count": 122,
   "metadata": {},
   "outputs": [],
   "source": [
    "from hashlib import sha256\n",
    "import json\n",
    "import time\n",
    "\n",
    "class blockchain:\n",
    "    def __init__(self, chain):\n",
    "        self.chain = []\n",
    "    \n",
    "    def genesis(self):\n",
    "        genesis = block(0,[],time.time(),'0')\n",
    "        genesis.hash = genesis.compute_hash()\n",
    "        self.chain.append(genesis)\n",
    "\n",
    "#block\n",
    "\n",
    "class block:\n",
    "    def __init__(self, index, transaction, timestample, prev_hash):\n",
    "        self.index = index\n",
    "        self.transaction = transaction\n",
    "        self.timestample = timestample\n",
    "        self.prev_hash = prev_hash\n",
    "        \n",
    "    def compute_hash(self):\n",
    "    \n",
    "        block_string = json.dumps(self.__dict__, sort_keys=True)\n",
    "        return sha256(block_string.encode()).hexdigest()\n",
    "    \n",
    "class transaction:\n",
    "    def __init__(self, SN, from_key, to_key, validation):\n",
    "        self.SN = SN\n",
    "        self.from_key = from_key\n",
    "        self.to_key = to_key\n",
    "        self.validation = validation\n",
    "\n",
    "def send(from_key, to_key, SN):\n",
    "    if SN in from_key.parts:\n",
    "        from_key.parts.pop(from_key.parts.index(SN))\n",
    "        to_key.parts.append(SN)\n",
    "        print('part sent')\n",
    "    \n",
    "    elif SN not in from_key.parts:\n",
    "        print('Part not in your wallet')\n",
    "    \n",
    "    \n",
    "class wallet:\n",
    "    def __init__(self,parts,public_key,private_key):\n",
    "        self.parts = parts\n",
    "        self.public_key = public_key\n",
    "        self.private_key = private_key\n",
    "\n",
    "    import random\n",
    "    import string\n",
    "    def new_wallet(username):    #não funciona \n",
    "        username = wallet([],(''.join(random.choices(string.ascii_uppercase + string.digits, k=8))),123)\n",
    "        \n"
   ]
  },
  {
   "cell_type": "code",
   "execution_count": 123,
   "metadata": {},
   "outputs": [
    {
     "ename": "TypeError",
     "evalue": "genesis() missing 1 required positional argument: 'self'",
     "output_type": "error",
     "traceback": [
      "\u001b[0;31m---------------------------------------------------------------------------\u001b[0m",
      "\u001b[0;31mTypeError\u001b[0m                                 Traceback (most recent call last)",
      "\u001b[0;32m<ipython-input-123-50f170f0f5da>\u001b[0m in \u001b[0;36m<module>\u001b[0;34m()\u001b[0m\n\u001b[0;32m----> 1\u001b[0;31m \u001b[0mblockchain\u001b[0m\u001b[0;34m.\u001b[0m\u001b[0mgenesis\u001b[0m\u001b[0;34m(\u001b[0m\u001b[0;34m)\u001b[0m\u001b[0;34m\u001b[0m\u001b[0m\n\u001b[0m",
      "\u001b[0;31mTypeError\u001b[0m: genesis() missing 1 required positional argument: 'self'"
     ]
    }
   ],
   "source": [
    "blockchain.genesis()"
   ]
  },
  {
   "cell_type": "code",
   "execution_count": 107,
   "metadata": {},
   "outputs": [
    {
     "ename": "NameError",
     "evalue": "name 'genesis' is not defined",
     "output_type": "error",
     "traceback": [
      "\u001b[0;31m---------------------------------------------------------------------------\u001b[0m",
      "\u001b[0;31mNameError\u001b[0m                                 Traceback (most recent call last)",
      "\u001b[0;32m<ipython-input-107-93b6ac1f8b03>\u001b[0m in \u001b[0;36m<module>\u001b[0;34m()\u001b[0m\n\u001b[0;32m----> 1\u001b[0;31m \u001b[0mgenesis\u001b[0m\u001b[0;34m\u001b[0m\u001b[0m\n\u001b[0m",
      "\u001b[0;31mNameError\u001b[0m: name 'genesis' is not defined"
     ]
    }
   ],
   "source": [
    "genesis"
   ]
  },
  {
   "cell_type": "code",
   "execution_count": 69,
   "metadata": {},
   "outputs": [],
   "source": [
    "a = wallet([123],'a','a1')\n",
    "b = wallet([],'b','b1')"
   ]
  },
  {
   "cell_type": "code",
   "execution_count": 67,
   "metadata": {},
   "outputs": [
    {
     "name": "stdout",
     "output_type": "stream",
     "text": [
      "part sent\n"
     ]
    }
   ],
   "source": [
    "send(a,b,123)"
   ]
  },
  {
   "cell_type": "code",
   "execution_count": null,
   "metadata": {},
   "outputs": [],
   "source": []
  },
  {
   "cell_type": "code",
   "execution_count": 2,
   "metadata": {},
   "outputs": [],
   "source": []
  },
  {
   "cell_type": "code",
   "execution_count": null,
   "metadata": {},
   "outputs": [],
   "source": []
  },
  {
   "cell_type": "code",
   "execution_count": null,
   "metadata": {},
   "outputs": [],
   "source": []
  },
  {
   "cell_type": "code",
   "execution_count": null,
   "metadata": {},
   "outputs": [],
   "source": []
  },
  {
   "cell_type": "code",
   "execution_count": null,
   "metadata": {},
   "outputs": [],
   "source": []
  },
  {
   "cell_type": "code",
   "execution_count": null,
   "metadata": {},
   "outputs": [],
   "source": []
  },
  {
   "cell_type": "code",
   "execution_count": null,
   "metadata": {},
   "outputs": [],
   "source": []
  },
  {
   "cell_type": "code",
   "execution_count": null,
   "metadata": {},
   "outputs": [],
   "source": []
  },
  {
   "cell_type": "code",
   "execution_count": null,
   "metadata": {},
   "outputs": [],
   "source": []
  }
 ],
 "metadata": {
  "kernelspec": {
   "display_name": "Python 3",
   "language": "python",
   "name": "python3"
  },
  "language_info": {
   "codemirror_mode": {
    "name": "ipython",
    "version": 3
   },
   "file_extension": ".py",
   "mimetype": "text/x-python",
   "name": "python",
   "nbconvert_exporter": "python",
   "pygments_lexer": "ipython3",
   "version": "3.6.5"
  }
 },
 "nbformat": 4,
 "nbformat_minor": 2
}
