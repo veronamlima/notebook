{
 "cells": [
  {
   "cell_type": "code",
   "execution_count": 1,
   "metadata": {},
   "outputs": [],
   "source": [
    "#Block\n",
    "blockchain = [hash('Genesis')]\n",
    "blocks = 0\n",
    "block= [\"genesis\"]\n",
    "\n",
    "#EXECUTING THIS RESETS THE CHAIN\n",
    "\n",
    "def transact(origin_key,destiny_key,content_sn):\n",
    "    \n",
    "    if content_sn in origin_key:\n",
    "    \n",
    "        previous_hash = blockchain[-1]\n",
    "        transaction_hash = hash(\"{}{}{}\".format(origin_key,destiny_key,content_sn))\n",
    "        block_hash = hash('{}{}'.format(previous_hash,transaction_hash))\n",
    "        print('Part sent!')\n",
    "        blockchain.append(block_hash)\n",
    "        \n",
    "        #transfering the part\n",
    "        \n",
    "        origin_key.pop(origin_key.index(content_sn))\n",
    "        destiny_key.append(content_sn)\n",
    "        \n",
    "\n",
    "    #hash count\n",
    "    \n",
    "        global blocks\n",
    "        blocks = blocks + 1\n",
    "    \n",
    "    #creating blocks database\n",
    "    \n",
    "        block.append([origin_key,destiny_key,content_sn])\n",
    "    \n",
    "    else:\n",
    "        \n",
    "        print(\"content not in your ledger!\")\n",
    "        \n",
    "     #block explorer\n",
    "    \n",
    "def blockData(block):\n",
    "    \n",
    "    print ('key origem:{}'.format(block[0][0]))\n",
    "    print ('key destino:{}'.format(block[1][0]))\n",
    "    print ('serial number:{}'.format(block[2]))\n",
    "    \n",
    "    #Wallet\n",
    "\n",
    "def wallet(key):\n",
    "    for item in key:\n",
    "        print(item)\n",
    "\n",
    "    #open wallet\n",
    "    \n",
    "def generate_wallet():\n",
    "    import string\n",
    "    import random\n",
    "    print('Your wallet is: {}'.format(''.join(random.choices(string.ascii_uppercase + string.digits, k=8))))\n",
    "    print('Keep it safe!')\n",
    "\n",
    "#criar def Register(key)\n",
    "    "
   ]
  },
  {
   "cell_type": "code",
   "execution_count": 30,
   "metadata": {},
   "outputs": [],
   "source": [
    "from hashlib import sha256\n",
    "import json\n",
    "import time\n",
    "\n",
    "class blockchain:      #não funciona\n",
    "    def __init__(self):\n",
    "        self.chain = []\n",
    "    \n",
    "    def genesis(self):        #não funciona\n",
    "        genesis = block(0,[],time.time(),'0')\n",
    "        genesis.hash = genesis.compute_hash()\n",
    "        self.chain.append(genesis)\n",
    "        \n",
    "\n",
    "#block\n",
    "\n",
    "class block:\n",
    "    def __init__(self, index, transaction, timestample, prev_hash):\n",
    "        self.index = index\n",
    "        self.transaction = transaction\n",
    "        self.timestample = timestample\n",
    "        self.prev_hash = prev_hash\n",
    "        \n",
    "    def compute_hash(self):\n",
    "    \n",
    "        block_string = json.dumps(self.__dict__, sort_keys=True)\n",
    "        return sha256(block_string.encode()).hexdigest()\n",
    "\n",
    "    \n",
    "\n",
    "chain = []\n",
    "block_0 = block(0,(hash('genesis')),time.time,0)\n",
    "chain.append(block_0)\n",
    "\n",
    "\n",
    "\n",
    "class transaction:\n",
    "    def __init__(self, SN, from_key, to_key, validation):\n",
    "        self.SN = SN\n",
    "        self.from_key = from_key\n",
    "        self.to_key = to_key\n",
    "        self.validation = validation\n",
    "\n",
    "def send(from_key, to_key, SN):\n",
    "    if SN in from_key.parts:\n",
    "        from_key.parts.pop(from_key.parts.index(SN))\n",
    "        to_key.parts.append(SN)\n",
    "        print('part sent')\n",
    "        \n",
    "        trs = str(from_key)+'_'+str(to_key)+'_'+str(SN)\n",
    "        trs = transaction(SN,from_key,to_key,True)\n",
    "        \n",
    "    \n",
    "    elif SN not in from_key.parts:\n",
    "        print('Part not in your wallet')\n",
    "    \n",
    "    \n",
    "class wallet:\n",
    "    def __init__(self,parts,public_key,private_key):\n",
    "        self.parts = parts\n",
    "        self.public_key = public_key\n",
    "        self.private_key = private_key\n",
    "\n",
    "    import random\n",
    "    import string\n",
    "    def new_wallet(username):    #não funciona \n",
    "        username = wallet([],(''.join(random.choices(string.ascii_uppercase + string.digits, k=8))),123)\n",
    "        \n"
   ]
  },
  {
   "cell_type": "code",
   "execution_count": 31,
   "metadata": {},
   "outputs": [
    {
     "data": {
      "text/plain": [
       "[<__main__.block at 0x7fc4a407c7f0>]"
      ]
     },
     "execution_count": 31,
     "metadata": {},
     "output_type": "execute_result"
    }
   ],
   "source": [
    "chain"
   ]
  },
  {
   "cell_type": "code",
   "execution_count": 32,
   "metadata": {},
   "outputs": [
    {
     "data": {
      "text/plain": [
       "234362907523729871"
      ]
     },
     "execution_count": 32,
     "metadata": {},
     "output_type": "execute_result"
    }
   ],
   "source": [
    "hash(block_0.transaction)"
   ]
  },
  {
   "cell_type": "code",
   "execution_count": 33,
   "metadata": {},
   "outputs": [],
   "source": [
    "a = wallet([123],'a','a1')\n",
    "b = wallet([],'b','b1')"
   ]
  },
  {
   "cell_type": "code",
   "execution_count": 34,
   "metadata": {},
   "outputs": [
    {
     "name": "stdout",
     "output_type": "stream",
     "text": [
      "part sent\n"
     ]
    }
   ],
   "source": [
    "send(a,b,123)"
   ]
  },
  {
   "cell_type": "code",
   "execution_count": 35,
   "metadata": {},
   "outputs": [
    {
     "ename": "NameError",
     "evalue": "name 'a_b_123' is not defined",
     "output_type": "error",
     "traceback": [
      "\u001b[0;31m---------------------------------------------------------------------------\u001b[0m",
      "\u001b[0;31mNameError\u001b[0m                                 Traceback (most recent call last)",
      "\u001b[0;32m<ipython-input-35-45eefde05024>\u001b[0m in \u001b[0;36m<module>\u001b[0;34m()\u001b[0m\n\u001b[0;32m----> 1\u001b[0;31m \u001b[0ma_b_123\u001b[0m\u001b[0;34m\u001b[0m\u001b[0m\n\u001b[0m",
      "\u001b[0;31mNameError\u001b[0m: name 'a_b_123' is not defined"
     ]
    }
   ],
   "source": [
    "a_b_123"
   ]
  },
  {
   "cell_type": "code",
   "execution_count": 7,
   "metadata": {},
   "outputs": [
    {
     "ename": "SyntaxError",
     "evalue": "can't assign to operator (<ipython-input-7-5b96d1f70706>, line 1)",
     "output_type": "error",
     "traceback": [
      "\u001b[0;36m  File \u001b[0;32m\"<ipython-input-7-5b96d1f70706>\"\u001b[0;36m, line \u001b[0;32m1\u001b[0m\n\u001b[0;31m    from_key+'-'+to_key+'_'+SN = transaction(SN,from_key,to_key,True)\u001b[0m\n\u001b[0m                                                                     ^\u001b[0m\n\u001b[0;31mSyntaxError\u001b[0m\u001b[0;31m:\u001b[0m can't assign to operator\n"
     ]
    }
   ],
   "source": [
    "from_key+'-'+to_key+'_'+SN = transaction(SN,from_key,to_key,True)"
   ]
  },
  {
   "cell_type": "code",
   "execution_count": 20,
   "metadata": {},
   "outputs": [],
   "source": [
    "def test(a,b,c):\n",
    "    var = a+b+c\n",
    "    var = transaction(1,2,3,4)"
   ]
  },
  {
   "cell_type": "code",
   "execution_count": 21,
   "metadata": {},
   "outputs": [],
   "source": [
    "test(1,2,3)"
   ]
  },
  {
   "cell_type": "code",
   "execution_count": 65,
   "metadata": {},
   "outputs": [
    {
     "ename": "SyntaxError",
     "evalue": "can't assign to operator (<ipython-input-65-c021aadce2cd>, line 2)",
     "output_type": "error",
     "traceback": [
      "\u001b[0;36m  File \u001b[0;32m\"<ipython-input-65-c021aadce2cd>\"\u001b[0;36m, line \u001b[0;32m2\u001b[0m\n\u001b[0;31m    (int(1)+int(2)+int(3)) = transaction(1,2,3,True)\u001b[0m\n\u001b[0m                                                    ^\u001b[0m\n\u001b[0;31mSyntaxError\u001b[0m\u001b[0;31m:\u001b[0m can't assign to operator\n"
     ]
    }
   ],
   "source": [
    "trs = int(1)+int(2)+int(3)\n",
    "(int(1)+int(2)+int(3)) = transaction(1,2,3,True)"
   ]
  },
  {
   "cell_type": "code",
   "execution_count": 60,
   "metadata": {},
   "outputs": [
    {
     "ename": "SyntaxError",
     "evalue": "can't assign to literal (<ipython-input-60-da54306d1696>, line 1)",
     "output_type": "error",
     "traceback": [
      "\u001b[0;36m  File \u001b[0;32m\"<ipython-input-60-da54306d1696>\"\u001b[0;36m, line \u001b[0;32m1\u001b[0m\n\u001b[0;31m    'trs1' = transaction(1,2,3,True)\u001b[0m\n\u001b[0m                                    ^\u001b[0m\n\u001b[0;31mSyntaxError\u001b[0m\u001b[0;31m:\u001b[0m can't assign to literal\n"
     ]
    }
   ],
   "source": []
  },
  {
   "cell_type": "code",
   "execution_count": null,
   "metadata": {},
   "outputs": [],
   "source": []
  },
  {
   "cell_type": "code",
   "execution_count": null,
   "metadata": {},
   "outputs": [],
   "source": []
  },
  {
   "cell_type": "code",
   "execution_count": null,
   "metadata": {},
   "outputs": [],
   "source": []
  },
  {
   "cell_type": "code",
   "execution_count": null,
   "metadata": {},
   "outputs": [],
   "source": []
  }
 ],
 "metadata": {
  "kernelspec": {
   "display_name": "Python 3",
   "language": "python",
   "name": "python3"
  },
  "language_info": {
   "codemirror_mode": {
    "name": "ipython",
    "version": 3
   },
   "file_extension": ".py",
   "mimetype": "text/x-python",
   "name": "python",
   "nbconvert_exporter": "python",
   "pygments_lexer": "ipython3",
   "version": "3.6.5"
  }
 },
 "nbformat": 4,
 "nbformat_minor": 2
}
