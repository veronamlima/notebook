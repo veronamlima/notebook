{
 "cells": [
  {
   "cell_type": "code",
   "execution_count": 28,
   "metadata": {},
   "outputs": [],
   "source": [
    "from hashlib import sha256\n",
    "import json\n",
    "import time\n",
    "\n",
    "\n",
    "#block\n",
    "\n",
    "class block:\n",
    "    def __init__(self, index, transaction, timestample, prev_hash):\n",
    "        self.index = index\n",
    "        self.transaction = transaction\n",
    "        self.timestample = timestample\n",
    "        self.prev_hash = prev_hash\n",
    "        \n",
    "    def compute_hash(self):\n",
    "    \n",
    "        block_string = json.dumps(self.__dict__, sort_keys=True)\n",
    "        return sha256(block_string.encode()).hexdigest()\n",
    "\n",
    "class transaction:\n",
    "    def __init__(self, SN, from_key, to_key, validation):\n",
    "        self.SN = SN\n",
    "        self.from_key = from_key\n",
    "        self.to_key = to_key\n",
    "        self.validation = validation    \n",
    "\n",
    "\n",
    "chain = dict()\n",
    "chain['b0'] = block(0,transaction('sis',\"gene\",\"n\",True),0,0)\n",
    "\n",
    "\n",
    "\n",
    "def send(from_key, to_key, SN):                   #mandar a transação primeiro para o bloco depois para a chain\n",
    "    if SN in from_key.parts:\n",
    "        from_key.parts.pop(from_key.parts.index(SN))\n",
    "        to_key.parts.append(SN)\n",
    "        print('part sent')\n",
    "        \n",
    "        key = 'b{}'.format(len(chain))\n",
    "        chain[key] = block(len(chain),transaction(SN, from_key, to_key, True),'time',hash(str(chain['b{}'.format(len(chain)-1)].transaction.from_key)+str(chain['b{}'.format(len(chain)-1)].transaction.SN)))        \n",
    "        #para recuperar os dados cache[\"ab123\"].SN/from_key...\n",
    "        \n",
    "    \n",
    "    elif SN not in from_key.parts:\n",
    "        print('Part not in your wallet')\n",
    "    \n",
    "    \n",
    "class wallet:\n",
    "    def __init__(self,parts,public_key,private_key):\n",
    "        self.parts = parts\n",
    "        self.public_key = public_key\n",
    "        self.private_key = private_key\n",
    "\n",
    "    import random\n",
    "    import string\n",
    "    \n",
    "    def new_wallet(username):    # \n",
    "        username = wallet([],(''.join(random.choices(string.ascii_uppercase + string.digits, k=8))),123)\n",
    "        \n",
    "        #criar sistema de explorer\n",
    "        #ex: hist_part(SN)\n"
   ]
  },
  {
   "cell_type": "code",
   "execution_count": 29,
   "metadata": {},
   "outputs": [],
   "source": [
    "a = wallet([123],'a','a1')\n",
    "b = wallet([],'b','b1')"
   ]
  },
  {
   "cell_type": "code",
   "execution_count": 34,
   "metadata": {},
   "outputs": [
    {
     "name": "stdout",
     "output_type": "stream",
     "text": [
      "part sent\n"
     ]
    }
   ],
   "source": [
    "send(b,a,123)"
   ]
  },
  {
   "cell_type": "code",
   "execution_count": 86,
   "metadata": {},
   "outputs": [
    {
     "data": {
      "text/plain": [
       "'a'"
      ]
     },
     "execution_count": 86,
     "metadata": {},
     "output_type": "execute_result"
    }
   ],
   "source": [
    "chain['ab123'].transaction.from_key.public_key"
   ]
  },
  {
   "cell_type": "code",
   "execution_count": 17,
   "metadata": {},
   "outputs": [
    {
     "data": {
      "text/plain": [
       "<__main__.transaction at 0x7f5160eecd68>"
      ]
     },
     "execution_count": 17,
     "metadata": {},
     "output_type": "execute_result"
    }
   ],
   "source": [
    "chain['b0'].transaction"
   ]
  },
  {
   "cell_type": "code",
   "execution_count": 35,
   "metadata": {},
   "outputs": [
    {
     "data": {
      "text/plain": [
       "{'b0': <__main__.block at 0x7f5160e873c8>,\n",
       " 'b1': <__main__.block at 0x7f5160eecb00>,\n",
       " 'b2': <__main__.block at 0x7f5160eec2e8>}"
      ]
     },
     "execution_count": 35,
     "metadata": {},
     "output_type": "execute_result"
    }
   ],
   "source": [
    "chain"
   ]
  },
  {
   "cell_type": "code",
   "execution_count": 72,
   "metadata": {},
   "outputs": [
    {
     "data": {
      "text/plain": [
       "5535373011226918915"
      ]
     },
     "execution_count": 72,
     "metadata": {},
     "output_type": "execute_result"
    }
   ],
   "source": [
    "hash((chain['b{}'.format(len(chain)-1)].transaction.from_key)+(chain['b{}'.format(len(chain)-1)].transaction.SN))"
   ]
  },
  {
   "cell_type": "code",
   "execution_count": 69,
   "metadata": {},
   "outputs": [
    {
     "data": {
      "text/plain": [
       "5535373011226918915"
      ]
     },
     "execution_count": 69,
     "metadata": {},
     "output_type": "execute_result"
    }
   ],
   "source": [
    "hash('genesis')"
   ]
  },
  {
   "cell_type": "code",
   "execution_count": 41,
   "metadata": {},
   "outputs": [
    {
     "data": {
      "text/plain": [
       "[123]"
      ]
     },
     "execution_count": 41,
     "metadata": {},
     "output_type": "execute_result"
    }
   ],
   "source": [
    "chain['ab123'].to_key.parts"
   ]
  },
  {
   "cell_type": "code",
   "execution_count": 51,
   "metadata": {},
   "outputs": [
    {
     "ename": "KeyError",
     "evalue": "0",
     "output_type": "error",
     "traceback": [
      "\u001b[0;31m---------------------------------------------------------------------------\u001b[0m",
      "\u001b[0;31mKeyError\u001b[0m                                  Traceback (most recent call last)",
      "\u001b[0;32m<ipython-input-51-beed5b6fb33e>\u001b[0m in \u001b[0;36m<module>\u001b[0;34m()\u001b[0m\n\u001b[0;32m----> 1\u001b[0;31m \u001b[0;32mdel\u001b[0m\u001b[0;34m(\u001b[0m\u001b[0mchain\u001b[0m\u001b[0;34m[\u001b[0m\u001b[0;36m0\u001b[0m\u001b[0;34m]\u001b[0m\u001b[0;34m)\u001b[0m\u001b[0;34m\u001b[0m\u001b[0m\n\u001b[0m",
      "\u001b[0;31mKeyError\u001b[0m: 0"
     ]
    }
   ],
   "source": []
  },
  {
   "cell_type": "code",
   "execution_count": null,
   "metadata": {},
   "outputs": [],
   "source": []
  }
 ],
 "metadata": {
  "kernelspec": {
   "display_name": "Python 3",
   "language": "python",
   "name": "python3"
  },
  "language_info": {
   "codemirror_mode": {
    "name": "ipython",
    "version": 3
   },
   "file_extension": ".py",
   "mimetype": "text/x-python",
   "name": "python",
   "nbconvert_exporter": "python",
   "pygments_lexer": "ipython3",
   "version": "3.6.5"
  }
 },
 "nbformat": 4,
 "nbformat_minor": 2
}
