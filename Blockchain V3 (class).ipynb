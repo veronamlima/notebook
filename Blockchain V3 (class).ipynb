{
 "cells": [
  {
   "cell_type": "code",
   "execution_count": 1,
   "metadata": {},
   "outputs": [],
   "source": [
    "from hashlib import sha256\n",
    "import json\n",
    "import time\n",
    "\n",
    "\n",
    "#block\n",
    "\n",
    "class block:\n",
    "    def __init__(self, index, transaction, timestample, prev_hash):\n",
    "        self.index = index\n",
    "        self.transaction = transaction\n",
    "        self.timestample = timestample\n",
    "        self.prev_hash = prev_hash\n",
    "        \n",
    "    def compute_hash(self):\n",
    "    \n",
    "        block_string = json.dumps(self.__dict__, sort_keys=True)\n",
    "        return sha256(block_string.encode()).hexdigest()\n",
    "\n",
    "class transaction:\n",
    "    def __init__(self, SN, from_key, to_key, validation):\n",
    "        self.SN = SN\n",
    "        self.from_key = from_key\n",
    "        self.to_key = to_key\n",
    "        self.validation = validation    \n",
    "\n",
    "\n",
    "chain = dict()\n",
    "chain['b0'] = block(0,transaction('sis',\"gene\",\"n\",True),0,0)   #Genesis\n",
    "chain_status = True\n",
    "\n",
    "\n",
    "\n",
    "def send(from_key, to_key, SN):                   \n",
    "    check_chain()\n",
    "    if wallets[from_key].kind == 'plane' and wallets[to_key].kind == 'plane':  #se for de plane para plane requer intermediário\n",
    "        if chain_status == True:\n",
    "            if SN in wallets[from_key].parts:\n",
    "                maint = input('What`s your Maintenance code?')\n",
    "                wallets[from_key].parts.pop(wallets[from_key].parts.index(SN))\n",
    "                wallets[to_key].parts.append(SN)\n",
    "                print('part sent')        \n",
    "                key = 'b{}'.format(len(chain))      #para recuperar os dados cache[\"ab123\"].SN/from_key...\n",
    "                chain[key] = block(len(chain),transaction(SN, wallets[from_key], wallets[maint], True),'time',hash(str(chain['b{}'.format(len(chain)-1)].transaction.from_key)+str(chain['b{}'.format(len(chain)-1)].transaction.SN)))        \n",
    "                key = 'b{}'.format(len(chain))      \n",
    "                chain[key] = block(len(chain),transaction(SN, wallets[maint], wallets[to_key], True),'time',hash(str(chain['b{}'.format(len(chain)-1)].transaction.from_key)+str(chain['b{}'.format(len(chain)-1)].transaction.SN)))        \n",
    "                \n",
    "                check_chain()\n",
    "                if chain_status == False:\n",
    "                    print('Transaction invalid, block deleted') #checa se a transação afetou a cadeia e exclui o bloco caso o tenha feito\n",
    "                    del(chain['b{}'.format(len(chain)-1)])\n",
    "            \n",
    "            elif SN not in from_key.parts:\n",
    "                print('Part not in your wallet')\n",
    "    \n",
    "    else:\n",
    "        if chain_status == True:\n",
    "            if SN in wallets[from_key].parts:\n",
    "                wallets[from_key].parts.pop(wallets[from_key].parts.index(SN))\n",
    "                wallets[to_key].parts.append(SN)\n",
    "                print('part sent')        \n",
    "                key = 'b{}'.format(len(chain))      #para recuperar os dados cache[\"ab123\"].SN/from_key...\n",
    "                chain[key] = block(len(chain),transaction(SN, from_key, to_key, True),'time',hash(str(chain['b{}'.format(len(chain)-1)].transaction.from_key)+str(chain['b{}'.format(len(chain)-1)].transaction.SN)))        \n",
    "                check_chain()\n",
    "                if chain_status == False:\n",
    "                    print('Transaction invalid, block deleted') #checa se a transação afetou a cadeia e exclui o bloco caso o tenha feito\n",
    "                    del(chain['b{}'.format(len(chain)-1)])\n",
    "            elif SN not in from_key.parts:\n",
    "                print('Part not in your wallet')\n",
    "    \n",
    "    \n",
    "wallets = dict()\n",
    "\n",
    "class wallet:\n",
    "    def __init__(self,parts,public_key,private_key,kind):\n",
    "        self.parts = parts\n",
    "        self.public_key = public_key\n",
    "        self.private_key = private_key\n",
    "        self.kind = kind\n",
    "\n",
    "    import random\n",
    "    import string\n",
    "    \n",
    "    def new_wallet(kind): \n",
    "        import random\n",
    "        import string \n",
    "        name = str(''.join(random.choices(string.ascii_uppercase + string.digits, k=8)))\n",
    "        wallets[name] = wallet([],name,name + 'key',kind)\n",
    "        print('Your wallet is:{}'.format(name))\n",
    "    \n",
    "def check_chain():\n",
    "    global chain_status\n",
    "    last_block = -1    \n",
    "    \n",
    "    while len(chain) + last_block != 0:\n",
    "        previous_hash = hash(str(chain['b{}'.format(len(chain)+last_block-1)].transaction.from_key)+str(chain['b{}'.format(len(chain)+last_block-1)].transaction.SN))\n",
    "        if chain['b{}'.format(len(chain)+last_block)].prev_hash == previous_hash:\n",
    "            last_block = last_block - 1\n",
    "            \n",
    "        else:\n",
    "            print ('Block {} invalid'.format(len(chain)+last_block))\n",
    "            last_block = last_block - 1\n",
    "            chain_status = False\n",
    "        \n",
    "    #criar variável \"chain status\" e não permitir transações quando estiver False\n",
    "        \n",
    "        \n",
    "        \n",
    "        #criar sistema de explorer\n",
    "        #ex: hist_part(SN)\n",
    "def hist_part(sn):\n",
    "    last_block = -1    \n",
    "    \n",
    "    while len(chain) + last_block != 0:\n",
    "        if sn == chain['b{}'.format(len(chain)+last_block)].transaction.SN:\n",
    "            print ('from {} to {} at {}'.format((chain['b{}'.format(len(chain)+last_block)].transaction.from_key.public_key),(chain['b{}'.format(len(chain)+last_block)].transaction.to_key.public_key),(chain['b{}'.format(len(chain)+last_block)].timestample)))\n",
    "            last_block = last_block - 1\n",
    "        else:\n",
    "            last_block = last_block - 1\n"
   ]
  },
  {
   "cell_type": "code",
   "execution_count": 55,
   "metadata": {},
   "outputs": [],
   "source": [
    "wallets['a'] = wallet([1,2,3,4,5,6],'a','a1','provider')\n",
    "wallets['b'] = wallet([],'b','b1','maint')\n",
    "wallets['c'] = wallet([],'c','c1','maint')\n",
    "wallets['d'] = wallet([],'d','d1','plane')\n",
    "wallets['e'] = wallet([],'e','e1','plane')\n",
    "wallets['f'] = wallet([],'f','f1','plane')\n",
    "wallets['g'] = wallet([],'g','g1','maint')\n",
    "wallets['h'] = wallet([],'h','h1','plane')\n",
    "wallets['i'] = wallet([],'i','i1','maint')\n",
    "wallets['j'] = wallet([],'j','j1','maint')\n",
    "wallets['k'] = wallet([],'k','k1','maint')\n",
    "wallets['l'] = wallet([],'l','l1','plane')\n",
    "wallets['m'] = wallet([],'m','m1','plane')\n"
   ]
  },
  {
   "cell_type": "code",
   "execution_count": null,
   "metadata": {},
   "outputs": [],
   "source": [
    "send('a','b',1)\n",
    "send('a','b',2)\n",
    "send('a','c',3)\n",
    "send('a','c',4)\n",
    "send('b','d',1)\n",
    "send('b','e',2)\n",
    "send('c','f',3)\n",
    "send('c','f',4)\n",
    "send('f','i',3)\n",
    "send('f','i',4)\n",
    "send('d','g',1)\n",
    "send('e','h',2)\n",
    "send('h','j',2)\n",
    "send('i','k',3)\n",
    "send('i','k',4)\n",
    "send('k','l',3)\n",
    "send('k','m',4)"
   ]
  },
  {
   "cell_type": "code",
   "execution_count": 17,
   "metadata": {},
   "outputs": [
    {
     "data": {
      "text/plain": [
       "{'b0': <__main__.block at 0x7f49a83ea710>,\n",
       " 'b1': <__main__.block at 0x7f49a84007b8>}"
      ]
     },
     "execution_count": 17,
     "metadata": {},
     "output_type": "execute_result"
    }
   ],
   "source": [
    "chain"
   ]
  },
  {
   "cell_type": "code",
   "execution_count": 18,
   "metadata": {},
   "outputs": [
    {
     "ename": "AttributeError",
     "evalue": "'str' object has no attribute 'parts'",
     "output_type": "error",
     "traceback": [
      "\u001b[0;31m---------------------------------------------------------------------------\u001b[0m",
      "\u001b[0;31mAttributeError\u001b[0m                            Traceback (most recent call last)",
      "\u001b[0;32m<ipython-input-18-966e4f122a71>\u001b[0m in \u001b[0;36m<module>\u001b[0;34m()\u001b[0m\n\u001b[0;32m----> 1\u001b[0;31m \u001b[0msend\u001b[0m\u001b[0;34m(\u001b[0m\u001b[0;34m'd'\u001b[0m\u001b[0;34m,\u001b[0m\u001b[0;34m'e'\u001b[0m\u001b[0;34m,\u001b[0m\u001b[0;36m1\u001b[0m\u001b[0;34m)\u001b[0m\u001b[0;34m\u001b[0m\u001b[0m\n\u001b[0m",
      "\u001b[0;32m<ipython-input-1-ec1f3c97dcd8>\u001b[0m in \u001b[0;36msend\u001b[0;34m(from_key, to_key, SN)\u001b[0m\n\u001b[1;32m     51\u001b[0m                     \u001b[0;32mdel\u001b[0m\u001b[0;34m(\u001b[0m\u001b[0mchain\u001b[0m\u001b[0;34m[\u001b[0m\u001b[0;34m'b{}'\u001b[0m\u001b[0;34m.\u001b[0m\u001b[0mformat\u001b[0m\u001b[0;34m(\u001b[0m\u001b[0mlen\u001b[0m\u001b[0;34m(\u001b[0m\u001b[0mchain\u001b[0m\u001b[0;34m)\u001b[0m\u001b[0;34m-\u001b[0m\u001b[0;36m1\u001b[0m\u001b[0;34m)\u001b[0m\u001b[0;34m]\u001b[0m\u001b[0;34m)\u001b[0m\u001b[0;34m\u001b[0m\u001b[0m\n\u001b[1;32m     52\u001b[0m \u001b[0;34m\u001b[0m\u001b[0m\n\u001b[0;32m---> 53\u001b[0;31m             \u001b[0;32melif\u001b[0m \u001b[0mSN\u001b[0m \u001b[0;32mnot\u001b[0m \u001b[0;32min\u001b[0m \u001b[0mfrom_key\u001b[0m\u001b[0;34m.\u001b[0m\u001b[0mparts\u001b[0m\u001b[0;34m:\u001b[0m\u001b[0;34m\u001b[0m\u001b[0m\n\u001b[0m\u001b[1;32m     54\u001b[0m                 \u001b[0mprint\u001b[0m\u001b[0;34m(\u001b[0m\u001b[0;34m'Part not in your wallet'\u001b[0m\u001b[0;34m)\u001b[0m\u001b[0;34m\u001b[0m\u001b[0m\n\u001b[1;32m     55\u001b[0m \u001b[0;34m\u001b[0m\u001b[0m\n",
      "\u001b[0;31mAttributeError\u001b[0m: 'str' object has no attribute 'parts'"
     ]
    }
   ],
   "source": [
    "send('d','e',1)"
   ]
  },
  {
   "cell_type": "code",
   "execution_count": 13,
   "metadata": {},
   "outputs": [
    {
     "data": {
      "text/plain": [
       "'a'"
      ]
     },
     "execution_count": 13,
     "metadata": {},
     "output_type": "execute_result"
    }
   ],
   "source": [
    "chain['b1'].transaction.from_key"
   ]
  },
  {
   "cell_type": "code",
   "execution_count": 15,
   "metadata": {},
   "outputs": [
    {
     "name": "stdout",
     "output_type": "stream",
     "text": [
      "from c to b at time\n",
      "from d to c at time\n"
     ]
    },
    {
     "ename": "AttributeError",
     "evalue": "'str' object has no attribute 'public_key'",
     "output_type": "error",
     "traceback": [
      "\u001b[0;31m---------------------------------------------------------------------------\u001b[0m",
      "\u001b[0;31mAttributeError\u001b[0m                            Traceback (most recent call last)",
      "\u001b[0;32m<ipython-input-15-44d2f6066f9b>\u001b[0m in \u001b[0;36m<module>\u001b[0;34m()\u001b[0m\n\u001b[0;32m----> 1\u001b[0;31m \u001b[0mhist_part\u001b[0m\u001b[0;34m(\u001b[0m\u001b[0;36m123\u001b[0m\u001b[0;34m)\u001b[0m\u001b[0;34m\u001b[0m\u001b[0m\n\u001b[0m",
      "\u001b[0;32m<ipython-input-11-ec1f3c97dcd8>\u001b[0m in \u001b[0;36mhist_part\u001b[0;34m(sn)\u001b[0m\n\u001b[1;32m    114\u001b[0m     \u001b[0;32mwhile\u001b[0m \u001b[0mlen\u001b[0m\u001b[0;34m(\u001b[0m\u001b[0mchain\u001b[0m\u001b[0;34m)\u001b[0m \u001b[0;34m+\u001b[0m \u001b[0mlast_block\u001b[0m \u001b[0;34m!=\u001b[0m \u001b[0;36m0\u001b[0m\u001b[0;34m:\u001b[0m\u001b[0;34m\u001b[0m\u001b[0m\n\u001b[1;32m    115\u001b[0m         \u001b[0;32mif\u001b[0m \u001b[0msn\u001b[0m \u001b[0;34m==\u001b[0m \u001b[0mchain\u001b[0m\u001b[0;34m[\u001b[0m\u001b[0;34m'b{}'\u001b[0m\u001b[0;34m.\u001b[0m\u001b[0mformat\u001b[0m\u001b[0;34m(\u001b[0m\u001b[0mlen\u001b[0m\u001b[0;34m(\u001b[0m\u001b[0mchain\u001b[0m\u001b[0;34m)\u001b[0m\u001b[0;34m+\u001b[0m\u001b[0mlast_block\u001b[0m\u001b[0;34m)\u001b[0m\u001b[0;34m]\u001b[0m\u001b[0;34m.\u001b[0m\u001b[0mtransaction\u001b[0m\u001b[0;34m.\u001b[0m\u001b[0mSN\u001b[0m\u001b[0;34m:\u001b[0m\u001b[0;34m\u001b[0m\u001b[0m\n\u001b[0;32m--> 116\u001b[0;31m             \u001b[0mprint\u001b[0m \u001b[0;34m(\u001b[0m\u001b[0;34m'from {} to {} at {}'\u001b[0m\u001b[0;34m.\u001b[0m\u001b[0mformat\u001b[0m\u001b[0;34m(\u001b[0m\u001b[0;34m(\u001b[0m\u001b[0mchain\u001b[0m\u001b[0;34m[\u001b[0m\u001b[0;34m'b{}'\u001b[0m\u001b[0;34m.\u001b[0m\u001b[0mformat\u001b[0m\u001b[0;34m(\u001b[0m\u001b[0mlen\u001b[0m\u001b[0;34m(\u001b[0m\u001b[0mchain\u001b[0m\u001b[0;34m)\u001b[0m\u001b[0;34m+\u001b[0m\u001b[0mlast_block\u001b[0m\u001b[0;34m)\u001b[0m\u001b[0;34m]\u001b[0m\u001b[0;34m.\u001b[0m\u001b[0mtransaction\u001b[0m\u001b[0;34m.\u001b[0m\u001b[0mfrom_key\u001b[0m\u001b[0;34m.\u001b[0m\u001b[0mpublic_key\u001b[0m\u001b[0;34m)\u001b[0m\u001b[0;34m,\u001b[0m\u001b[0;34m(\u001b[0m\u001b[0mchain\u001b[0m\u001b[0;34m[\u001b[0m\u001b[0;34m'b{}'\u001b[0m\u001b[0;34m.\u001b[0m\u001b[0mformat\u001b[0m\u001b[0;34m(\u001b[0m\u001b[0mlen\u001b[0m\u001b[0;34m(\u001b[0m\u001b[0mchain\u001b[0m\u001b[0;34m)\u001b[0m\u001b[0;34m+\u001b[0m\u001b[0mlast_block\u001b[0m\u001b[0;34m)\u001b[0m\u001b[0;34m]\u001b[0m\u001b[0;34m.\u001b[0m\u001b[0mtransaction\u001b[0m\u001b[0;34m.\u001b[0m\u001b[0mto_key\u001b[0m\u001b[0;34m.\u001b[0m\u001b[0mpublic_key\u001b[0m\u001b[0;34m)\u001b[0m\u001b[0;34m,\u001b[0m\u001b[0;34m(\u001b[0m\u001b[0mchain\u001b[0m\u001b[0;34m[\u001b[0m\u001b[0;34m'b{}'\u001b[0m\u001b[0;34m.\u001b[0m\u001b[0mformat\u001b[0m\u001b[0;34m(\u001b[0m\u001b[0mlen\u001b[0m\u001b[0;34m(\u001b[0m\u001b[0mchain\u001b[0m\u001b[0;34m)\u001b[0m\u001b[0;34m+\u001b[0m\u001b[0mlast_block\u001b[0m\u001b[0;34m)\u001b[0m\u001b[0;34m]\u001b[0m\u001b[0;34m.\u001b[0m\u001b[0mtimestample\u001b[0m\u001b[0;34m)\u001b[0m\u001b[0;34m)\u001b[0m\u001b[0;34m)\u001b[0m\u001b[0;34m\u001b[0m\u001b[0m\n\u001b[0m\u001b[1;32m    117\u001b[0m             \u001b[0mlast_block\u001b[0m \u001b[0;34m=\u001b[0m \u001b[0mlast_block\u001b[0m \u001b[0;34m-\u001b[0m \u001b[0;36m1\u001b[0m\u001b[0;34m\u001b[0m\u001b[0m\n\u001b[1;32m    118\u001b[0m         \u001b[0;32melse\u001b[0m\u001b[0;34m:\u001b[0m\u001b[0;34m\u001b[0m\u001b[0m\n",
      "\u001b[0;31mAttributeError\u001b[0m: 'str' object has no attribute 'public_key'"
     ]
    }
   ],
   "source": [
    "hist_part(123)"
   ]
  },
  {
   "cell_type": "code",
   "execution_count": 2,
   "metadata": {},
   "outputs": [
    {
     "name": "stdout",
     "output_type": "stream",
     "text": [
      "Your wallet is:T62M5TTQ\n"
     ]
    }
   ],
   "source": [
    "wallet.new_wallet()"
   ]
  },
  {
   "cell_type": "code",
   "execution_count": 10,
   "metadata": {},
   "outputs": [
    {
     "data": {
      "text/plain": [
       "True"
      ]
     },
     "execution_count": 10,
     "metadata": {},
     "output_type": "execute_result"
    }
   ],
   "source": [
    "chain_status"
   ]
  },
  {
   "cell_type": "code",
   "execution_count": 32,
   "metadata": {},
   "outputs": [],
   "source": [
    "check_chain()"
   ]
  },
  {
   "cell_type": "code",
   "execution_count": 60,
   "metadata": {},
   "outputs": [
    {
     "name": "stdout",
     "output_type": "stream",
     "text": [
      "blaa\n"
     ]
    },
    {
     "data": {
      "text/plain": [
       "str"
      ]
     },
     "execution_count": 60,
     "metadata": {},
     "output_type": "execute_result"
    }
   ],
   "source": [
    "type(input('bla'))"
   ]
  },
  {
   "cell_type": "code",
   "execution_count": 69,
   "metadata": {},
   "outputs": [
    {
     "name": "stdout",
     "output_type": "stream",
     "text": [
      "Your wallet is:V8DKNSNS\n"
     ]
    }
   ],
   "source": [
    "wallet.new_wallet('plane')"
   ]
  },
  {
   "cell_type": "code",
   "execution_count": 86,
   "metadata": {},
   "outputs": [
    {
     "data": {
      "text/plain": [
       "123"
      ]
     },
     "execution_count": 86,
     "metadata": {},
     "output_type": "execute_result"
    }
   ],
   "source": [
    "wallets['V8DKNSNS'].parts"
   ]
  },
  {
   "cell_type": "code",
   "execution_count": 83,
   "metadata": {},
   "outputs": [
    {
     "data": {
      "text/plain": [
       "'plane'"
      ]
     },
     "execution_count": 83,
     "metadata": {},
     "output_type": "execute_result"
    }
   ],
   "source": [
    "wallets['UOLU4EZ4'].kind"
   ]
  },
  {
   "cell_type": "code",
   "execution_count": 47,
   "metadata": {},
   "outputs": [
    {
     "data": {
      "text/plain": [
       "{'a': <__main__.wallet at 0x7f28203d3278>,\n",
       " 'b': <__main__.wallet at 0x7f28203d3240>,\n",
       " 'c': <__main__.wallet at 0x7f282041ca90>,\n",
       " 'd': <__main__.wallet at 0x7f28203d3320>,\n",
       " 'e': <__main__.wallet at 0x7f28203d3390>}"
      ]
     },
     "execution_count": 47,
     "metadata": {},
     "output_type": "execute_result"
    }
   ],
   "source": [
    "wallets"
   ]
  },
  {
   "cell_type": "code",
   "execution_count": 99,
   "metadata": {},
   "outputs": [
    {
     "data": {
      "text/plain": [
       "{'b0': <__main__.block at 0x7fd86824e630>}"
      ]
     },
     "execution_count": 99,
     "metadata": {},
     "output_type": "execute_result"
    }
   ],
   "source": []
  },
  {
   "cell_type": "code",
   "execution_count": null,
   "metadata": {},
   "outputs": [],
   "source": []
  }
 ],
 "metadata": {
  "kernelspec": {
   "display_name": "Python 3",
   "language": "python",
   "name": "python3"
  },
  "language_info": {
   "codemirror_mode": {
    "name": "ipython",
    "version": 3
   },
   "file_extension": ".py",
   "mimetype": "text/x-python",
   "name": "python",
   "nbconvert_exporter": "python",
   "pygments_lexer": "ipython3",
   "version": "3.6.6"
  }
 },
 "nbformat": 4,
 "nbformat_minor": 2
}
