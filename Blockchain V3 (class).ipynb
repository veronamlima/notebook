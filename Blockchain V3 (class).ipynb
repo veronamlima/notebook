{
 "cells": [
  {
   "cell_type": "code",
   "execution_count": 111,
   "metadata": {},
   "outputs": [],
   "source": [
    "from hashlib import sha256\n",
    "import json\n",
    "import time\n",
    "\n",
    "\n",
    "#block\n",
    "\n",
    "class block:\n",
    "    def __init__(self, index, transaction, timestample, prev_hash):\n",
    "        self.index = index\n",
    "        self.transaction = transaction\n",
    "        self.timestample = timestample\n",
    "        self.prev_hash = prev_hash\n",
    "        \n",
    "    def compute_hash(self):\n",
    "    \n",
    "        block_string = json.dumps(self.__dict__, sort_keys=True)\n",
    "        return sha256(block_string.encode()).hexdigest()\n",
    "\n",
    "class transaction:\n",
    "    def __init__(self, SN, from_key, to_key, validation):\n",
    "        self.SN = SN\n",
    "        self.from_key = from_key\n",
    "        self.to_key = to_key\n",
    "        self.validation = validation    \n",
    "\n",
    "\n",
    "chain = dict()\n",
    "chain['b0'] = block(0,transaction('sis',\"gene\",\"n\",True),0,0)   #Genesis\n",
    "chain_status = True\n",
    "\n",
    "\n",
    "\n",
    "def send(from_key, to_key, SN):                   \n",
    "    check_chain()\n",
    "    if wallets[from_key].kind == 'plane' and wallets[to_key].kind == 'plane':  #se for de plane para plane requer intermediário\n",
    "        if chain_status == True:\n",
    "            if SN in wallets[from_key].parts:\n",
    "                maint = input('What`s your Maintenance code?')\n",
    "                wallets[from_key].parts.pop(wallets[from_key].parts.index(SN))\n",
    "                wallets[to_key].parts.append(SN)\n",
    "                print('part sent')        \n",
    "                key = 'b{}'.format(len(chain))      #para recuperar os dados cache[\"ab123\"].SN/from_key...\n",
    "                chain[key] = block(len(chain),transaction(SN, wallets[from_key], wallets[maint], True),'time',hash(str(chain['b{}'.format(len(chain)-1)].transaction.from_key)+str(chain['b{}'.format(len(chain)-1)].transaction.SN)))        \n",
    "                key = 'b{}'.format(len(chain))      \n",
    "                chain[key] = block(len(chain),transaction(SN, wallets[maint], wallets[to_key], True),'time',hash(str(chain['b{}'.format(len(chain)-1)].transaction.from_key)+str(chain['b{}'.format(len(chain)-1)].transaction.SN)))        \n",
    "                \n",
    "                check_chain()\n",
    "                if chain_status == False:\n",
    "                    print('Transaction invalid, block deleted') #checa se a transação afetou a cadeia e exclui o bloco caso o tenha feito\n",
    "                    del(chain['b{}'.format(len(chain)-1)])\n",
    "            \n",
    "            elif SN not in from_key.parts:\n",
    "                print('Part not in your wallet')\n",
    "    \n",
    "    else:\n",
    "        if chain_status == True:\n",
    "            if SN in wallets[from_key].parts:\n",
    "                wallets[from_key].parts.pop(wallets[from_key].parts.index(SN))\n",
    "                wallets[to_key].parts.append(SN)\n",
    "                print('part sent')        \n",
    "                key = 'b{}'.format(len(chain))      #para recuperar os dados cache[\"ab123\"].SN/from_key...\n",
    "                chain[key] = block(len(chain),transaction(SN, from_key, to_key, True),'time',hash(str(chain['b{}'.format(len(chain)-1)].transaction.from_key)+str(chain['b{}'.format(len(chain)-1)].transaction.SN)))        \n",
    "                check_chain()\n",
    "                if chain_status == False:\n",
    "                    print('Transaction invalid, block deleted') #checa se a transação afetou a cadeia e exclui o bloco caso o tenha feito\n",
    "                    del(chain['b{}'.format(len(chain)-1)])\n",
    "            elif SN not in from_key.parts:\n",
    "                print('Part not in your wallet')\n",
    "    \n",
    "    \n",
    "wallets = dict()\n",
    "\n",
    "class wallet:\n",
    "    def __init__(self,parts,public_key,private_key,kind):\n",
    "        self.parts = parts\n",
    "        self.public_key = public_key\n",
    "        self.private_key = private_key\n",
    "        self.kind = kind\n",
    "\n",
    "    import random\n",
    "    import string\n",
    "    \n",
    "    def new_wallet(kind): \n",
    "        import random\n",
    "        import string \n",
    "        name = str(''.join(random.choices(string.ascii_uppercase + string.digits, k=8)))\n",
    "        wallets[name] = wallet([],name,name + 'key',kind)\n",
    "        print('Your wallet is:{}'.format(name))\n",
    "    \n",
    "def check_chain():\n",
    "    global chain_status\n",
    "    last_block = -1    \n",
    "    \n",
    "    while len(chain) + last_block != 0:\n",
    "        previous_hash = hash(str(chain['b{}'.format(len(chain)+last_block-1)].transaction.from_key)+str(chain['b{}'.format(len(chain)+last_block-1)].transaction.SN))\n",
    "        if chain['b{}'.format(len(chain)+last_block)].prev_hash == previous_hash:\n",
    "            last_block = last_block - 1\n",
    "            \n",
    "        else:\n",
    "            print ('Block {} invalid'.format(len(chain)+last_block))\n",
    "            last_block = last_block - 1\n",
    "            chain_status = False\n",
    "        \n",
    "    #criar variável \"chain status\" e não permitir transações quando estiver False\n",
    "        \n",
    "        \n",
    "        \n",
    "        #criar sistema de explorer\n",
    "        #ex: hist_part(SN)\n",
    "def hist_part(sn):\n",
    "    last_block = -1    \n",
    "    \n",
    "    while len(chain) + last_block != 0:\n",
    "        if sn == chain['b{}'.format(len(chain)+last_block)].transaction.SN:\n",
    "            print ('from {} to {} at {}'.format((chain['b{}'.format(len(chain)+last_block)].transaction.from_key.public_key),(chain['b{}'.format(len(chain)+last_block)].transaction.to_key.public_key),(chain['b{}'.format(len(chain)+last_block)].timestample)))\n",
    "            last_block = last_block - 1\n",
    "        else:\n",
    "            last_block = last_block - 1\n"
   ]
  },
  {
   "cell_type": "code",
   "execution_count": 112,
   "metadata": {},
   "outputs": [
    {
     "name": "stdout",
     "output_type": "stream",
     "text": [
      "part sent\n",
      "part sent\n",
      "part sent\n",
      "part sent\n",
      "part sent\n"
     ]
    },
    {
     "data": {
      "text/plain": [
       "{'b0': <__main__.block at 0x7fd86827f748>,\n",
       " 'b1': <__main__.block at 0x7fd8682bf828>,\n",
       " 'b2': <__main__.block at 0x7fd8682bfb38>,\n",
       " 'b3': <__main__.block at 0x7fd8682bf5f8>,\n",
       " 'b4': <__main__.block at 0x7fd8682bff28>,\n",
       " 'b5': <__main__.block at 0x7fd8682bf630>}"
      ]
     },
     "execution_count": 112,
     "metadata": {},
     "output_type": "execute_result"
    }
   ],
   "source": [
    "wallets['a'] = wallet([123],'a','a1','provider')\n",
    "wallets['b'] = wallet([321],'b','b1','plane')\n",
    "wallets['c'] = wallet([],'c','c1','maint')\n",
    "wallets['d'] = wallet([],'d','d1','plane')\n",
    "wallets['e'] = wallet([],'e','e1','maint')\n",
    "send('a','b',123)\n",
    "send('b','c',123)\n",
    "send('c','d',123)\n",
    "send('b','e',321)\n",
    "send('e','a',321)\n",
    "chain"
   ]
  },
  {
   "cell_type": "code",
   "execution_count": 113,
   "metadata": {},
   "outputs": [
    {
     "name": "stdout",
     "output_type": "stream",
     "text": [
      "What`s your Maintenance code?c\n",
      "part sent\n"
     ]
    }
   ],
   "source": [
    "send('d','b',123)"
   ]
  },
  {
   "cell_type": "code",
   "execution_count": 126,
   "metadata": {},
   "outputs": [
    {
     "data": {
      "text/plain": [
       "'plane'"
      ]
     },
     "execution_count": 126,
     "metadata": {},
     "output_type": "execute_result"
    }
   ],
   "source": [
    "chain['b7'].transaction.to_key.kind"
   ]
  },
  {
   "cell_type": "code",
   "execution_count": 26,
   "metadata": {},
   "outputs": [
    {
     "name": "stdout",
     "output_type": "stream",
     "text": [
      "from e to a at time\n",
      "from b to e at time\n"
     ]
    }
   ],
   "source": [
    "hist_part(321)"
   ]
  },
  {
   "cell_type": "code",
   "execution_count": 2,
   "metadata": {},
   "outputs": [
    {
     "name": "stdout",
     "output_type": "stream",
     "text": [
      "Your wallet is:T62M5TTQ\n"
     ]
    }
   ],
   "source": [
    "wallet.new_wallet()"
   ]
  },
  {
   "cell_type": "code",
   "execution_count": 10,
   "metadata": {},
   "outputs": [
    {
     "data": {
      "text/plain": [
       "True"
      ]
     },
     "execution_count": 10,
     "metadata": {},
     "output_type": "execute_result"
    }
   ],
   "source": [
    "chain_status"
   ]
  },
  {
   "cell_type": "code",
   "execution_count": 32,
   "metadata": {},
   "outputs": [],
   "source": [
    "check_chain()"
   ]
  },
  {
   "cell_type": "code",
   "execution_count": 60,
   "metadata": {},
   "outputs": [
    {
     "name": "stdout",
     "output_type": "stream",
     "text": [
      "blaa\n"
     ]
    },
    {
     "data": {
      "text/plain": [
       "str"
      ]
     },
     "execution_count": 60,
     "metadata": {},
     "output_type": "execute_result"
    }
   ],
   "source": [
    "type(input('bla'))"
   ]
  },
  {
   "cell_type": "code",
   "execution_count": 69,
   "metadata": {},
   "outputs": [
    {
     "name": "stdout",
     "output_type": "stream",
     "text": [
      "Your wallet is:V8DKNSNS\n"
     ]
    }
   ],
   "source": [
    "wallet.new_wallet('plane')"
   ]
  },
  {
   "cell_type": "code",
   "execution_count": 86,
   "metadata": {},
   "outputs": [
    {
     "data": {
      "text/plain": [
       "123"
      ]
     },
     "execution_count": 86,
     "metadata": {},
     "output_type": "execute_result"
    }
   ],
   "source": [
    "wallets['V8DKNSNS'].parts"
   ]
  },
  {
   "cell_type": "code",
   "execution_count": 83,
   "metadata": {},
   "outputs": [
    {
     "data": {
      "text/plain": [
       "'plane'"
      ]
     },
     "execution_count": 83,
     "metadata": {},
     "output_type": "execute_result"
    }
   ],
   "source": [
    "wallets['UOLU4EZ4'].kind"
   ]
  },
  {
   "cell_type": "code",
   "execution_count": 100,
   "metadata": {},
   "outputs": [
    {
     "data": {
      "text/plain": [
       "<__main__.wallet at 0x7fd86824e8d0>"
      ]
     },
     "execution_count": 100,
     "metadata": {},
     "output_type": "execute_result"
    }
   ],
   "source": [
    "wallets['a']"
   ]
  },
  {
   "cell_type": "code",
   "execution_count": 99,
   "metadata": {},
   "outputs": [
    {
     "data": {
      "text/plain": [
       "{'b0': <__main__.block at 0x7fd86824e630>}"
      ]
     },
     "execution_count": 99,
     "metadata": {},
     "output_type": "execute_result"
    }
   ],
   "source": []
  },
  {
   "cell_type": "code",
   "execution_count": null,
   "metadata": {},
   "outputs": [],
   "source": []
  }
 ],
 "metadata": {
  "kernelspec": {
   "display_name": "Python 3",
   "language": "python",
   "name": "python3"
  }
 },
 "nbformat": 4,
 "nbformat_minor": 2
}
