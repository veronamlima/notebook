{
 "cells": [
  {
   "cell_type": "code",
   "execution_count": 24,
   "metadata": {},
   "outputs": [],
   "source": [
    "from hashlib import sha256\n",
    "import json\n",
    "import time\n",
    "\n",
    "\n",
    "#block\n",
    "\n",
    "class block:\n",
    "    def __init__(self, index, transaction, timestample, prev_hash):\n",
    "        self.index = index\n",
    "        self.transaction = transaction\n",
    "        self.timestample = timestample\n",
    "        self.prev_hash = prev_hash\n",
    "        \n",
    "    def compute_hash(self):\n",
    "    \n",
    "        block_string = json.dumps(self.__dict__, sort_keys=True)\n",
    "        return sha256(block_string.encode()).hexdigest()\n",
    "\n",
    "class transaction:\n",
    "    def __init__(self, SN, from_key, to_key, validation):\n",
    "        self.SN = SN\n",
    "        self.from_key = from_key\n",
    "        self.to_key = to_key\n",
    "        self.validation = validation    \n",
    "\n",
    "\n",
    "chain = dict()\n",
    "chain['b0'] = block(0,transaction('sis',\"gene\",\"n\",True),0,0)   #Genesis\n",
    "chain_status = True\n",
    "\n",
    "\n",
    "\n",
    "def send(from_key, to_key, SN):                   \n",
    "    check_chain()\n",
    "    if chain_status == True:\n",
    "        if SN in from_key.parts:\n",
    "            from_key.parts.pop(from_key.parts.index(SN))\n",
    "            to_key.parts.append(SN)\n",
    "            print('part sent')        \n",
    "            key = 'b{}'.format(len(chain))      #para recuperar os dados cache[\"ab123\"].SN/from_key...\n",
    "            chain[key] = block(len(chain),transaction(SN, from_key, to_key, True),'time',hash(str(chain['b{}'.format(len(chain)-1)].transaction.from_key)+str(chain['b{}'.format(len(chain)-1)].transaction.SN)))        \n",
    "            check_chain()\n",
    "            if chain_status == False:\n",
    "                print('Transaction invalid, block deleted') #checa se a transação afetou a cadeia e exclui o bloco caso o tenha feito\n",
    "                del(chain['b{}'.format(len(chain)-1)])\n",
    "        elif SN not in from_key.parts:\n",
    "            print('Part not in your wallet')\n",
    "    \n",
    "    \n",
    "wallets = dict()\n",
    "\n",
    "class wallet:\n",
    "    def __init__(self,parts,public_key,private_key):\n",
    "        self.parts = parts\n",
    "        self.public_key = public_key\n",
    "        self.private_key = private_key\n",
    "\n",
    "    import random\n",
    "    import string\n",
    "    \n",
    "    def new_wallet(): \n",
    "        import random\n",
    "        import string \n",
    "        name = str(''.join(random.choices(string.ascii_uppercase + string.digits, k=8)))\n",
    "        wallets[name] = wallet([],name,name + 'key')\n",
    "        print('Your wallet is:{}'.format(name))\n",
    "    \n",
    "def check_chain():\n",
    "    global chain_status\n",
    "    last_block = -1    \n",
    "    \n",
    "    while len(chain) + last_block != 0:\n",
    "        previous_hash = hash(str(chain['b{}'.format(len(chain)+last_block-1)].transaction.from_key)+str(chain['b{}'.format(len(chain)+last_block-1)].transaction.SN))\n",
    "        if chain['b{}'.format(len(chain)+last_block)].prev_hash == previous_hash:\n",
    "            last_block = last_block - 1\n",
    "            \n",
    "        else:\n",
    "            print ('Block {} invalid'.format(len(chain)+last_block))\n",
    "            last_block = last_block - 1\n",
    "            chain_status = False\n",
    "        \n",
    "    #criar variável \"chain status\" e não permitir transações quando estiver False\n",
    "        \n",
    "        \n",
    "        \n",
    "        #criar sistema de explorer\n",
    "        #ex: hist_part(SN)\n",
    "def hist_part(sn):\n",
    "    last_block = -1    \n",
    "    \n",
    "    while len(chain) + last_block != 0:\n",
    "        if sn == chain['b{}'.format(len(chain)+last_block)].transaction.SN:\n",
    "            print ('from {} to {} at {}'.format((chain['b{}'.format(len(chain)+last_block)].transaction.from_key.public_key),(chain['b{}'.format(len(chain)+last_block)].transaction.to_key.public_key),(chain['b{}'.format(len(chain)+last_block)].timestample)))\n",
    "            last_block = last_block - 1\n",
    "        else:\n",
    "            last_block = last_block - 1\n"
   ]
  },
  {
   "cell_type": "code",
   "execution_count": null,
   "metadata": {},
   "outputs": [],
   "source": [
    "a = wallet([123],'a','a1')\n",
    "b = wallet([321],'b','b1')\n",
    "c = wallet([],'c','c1')\n",
    "d = wallet([],'d','d1')\n",
    "e = wallet([],'e','e1')\n",
    "send(a,b,123)\n",
    "send(b,c,123)\n",
    "send(c,d,123)\n",
    "send(d,e,123)\n",
    "send(b,e,321)\n",
    "send(e,a,321)\n",
    "chain"
   ]
  },
  {
   "cell_type": "code",
   "execution_count": 26,
   "metadata": {},
   "outputs": [
    {
     "name": "stdout",
     "output_type": "stream",
     "text": [
      "from e to a at time\n",
      "from b to e at time\n"
     ]
    }
   ],
   "source": [
    "hist_part(321)"
   ]
  },
  {
   "cell_type": "code",
   "execution_count": 2,
   "metadata": {},
   "outputs": [
    {
     "name": "stdout",
     "output_type": "stream",
     "text": [
      "Your wallet is:T62M5TTQ\n"
     ]
    }
   ],
   "source": [
    "wallet.new_wallet()"
   ]
  },
  {
   "cell_type": "code",
   "execution_count": 10,
   "metadata": {},
   "outputs": [
    {
     "data": {
      "text/plain": [
       "True"
      ]
     },
     "execution_count": 10,
     "metadata": {},
     "output_type": "execute_result"
    }
   ],
   "source": [
    "chain_status"
   ]
  },
  {
   "cell_type": "code",
   "execution_count": 9,
   "metadata": {},
   "outputs": [],
   "source": [
    "check_chain()"
   ]
  }
 ],
 "metadata": {
  "kernelspec": {
   "display_name": "Python 3",
   "language": "python",
   "name": "python3"
  },
  "language_info": {
   "codemirror_mode": {
    "name": "ipython",
    "version": 3
   },
   "file_extension": ".py",
   "mimetype": "text/x-python",
   "name": "python",
   "nbconvert_exporter": "python",
   "pygments_lexer": "ipython3",
   "version": "3.6.6"
  }
 },
 "nbformat": 4,
 "nbformat_minor": 2
}
