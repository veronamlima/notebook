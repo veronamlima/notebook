{
 "cells": [
  {
   "cell_type": "code",
   "execution_count": 48,
   "metadata": {},
   "outputs": [],
   "source": [
    "from hashlib import sha256\n",
    "import json\n",
    "import time\n",
    "\n",
    "\n",
    "#block\n",
    "\n",
    "class block:\n",
    "    def __init__(self, index, transaction, timestample, prev_hash):\n",
    "        self.index = index\n",
    "        self.transaction = transaction\n",
    "        self.timestample = timestample\n",
    "        self.prev_hash = prev_hash\n",
    "        \n",
    "    def compute_hash(self):\n",
    "    \n",
    "        block_string = json.dumps(self.__dict__, sort_keys=True)\n",
    "        return sha256(block_string.encode()).hexdigest()\n",
    "\n",
    "class transaction:\n",
    "    def __init__(self, SN, from_key, to_key, validation):\n",
    "        self.SN = SN\n",
    "        self.from_key = from_key\n",
    "        self.to_key = to_key\n",
    "        self.validation = validation    \n",
    "\n",
    "\n",
    "chain = dict()\n",
    "chain['b0'] = block(0,transaction('sis',\"gene\",\"n\",True),0,0)\n",
    "\n",
    "\n",
    "\n",
    "def send(from_key, to_key, SN):                   #mandar a transação primeiro para o bloco depois para a chain\n",
    "    if SN in from_key.parts:\n",
    "        from_key.parts.pop(from_key.parts.index(SN))\n",
    "        to_key.parts.append(SN)\n",
    "        print('part sent')\n",
    "        \n",
    "        key = 'b{}'.format(len(chain))\n",
    "        chain[key] = block(len(chain),transaction(SN, from_key, to_key, True),'time',hash(str(chain['b{}'.format(len(chain)-1)].transaction.from_key)+str(chain['b{}'.format(len(chain)-1)].transaction.SN)))        \n",
    "        #para recuperar os dados cache[\"ab123\"].SN/from_key...\n",
    "        \n",
    "    \n",
    "    elif SN not in from_key.parts:\n",
    "        print('Part not in your wallet')\n",
    "    \n",
    "    \n",
    "class wallet:\n",
    "    def __init__(self,parts,public_key,private_key):\n",
    "        self.parts = parts\n",
    "        self.public_key = public_key\n",
    "        self.private_key = private_key\n",
    "\n",
    "    import random\n",
    "    import string\n",
    "    \n",
    "    def new_wallet(username):    # \n",
    "        username = wallet([],(''.join(random.choices(string.ascii_uppercase + string.digits, k=8))),123)\n",
    "        \n",
    "    \n",
    "def check_chain():\n",
    "    last_block = -1\n",
    "    previous_hash = hash(str(chain['b{}'.format(len(chain)+last_block-1)].transaction.from_key)+str(chain['b{}'.format(len(chain)+last_block-1)].transaction.SN))\n",
    "        \n",
    "    \n",
    "    while len(chain) + prev_b +1 != 0:\n",
    "        if chain['b{}'.format(len(chain)+last_block)].prev_hash == previous_hash:\n",
    "            print ('pass')\n",
    "            prev_b = prev_b - 1\n",
    "            last_block = last_block - 1         #está marcando todos os blocos como inválidos\n",
    "        else:\n",
    "            print ('Block {} invalid'.format(len(chain)+last_block))\n",
    "            prev_b = prev_b - 1\n",
    "            last_block = last_block - 1\n",
    "        \n",
    "        \n",
    "        \n",
    "        #criar sistema de explorer\n",
    "        #ex: hist_part(SN)\n"
   ]
  },
  {
   "cell_type": "code",
   "execution_count": 40,
   "metadata": {},
   "outputs": [
    {
     "data": {
      "text/plain": [
       "-5332996661355439259"
      ]
     },
     "execution_count": 40,
     "metadata": {},
     "output_type": "execute_result"
    }
   ],
   "source": [
    "last_block = -1\n",
    "hash(str(chain['b{}'.format(len(chain)+last_block-1)].transaction.from_key)+str(chain['b{}'.format(len(chain)+last_block-1)].transaction.SN))"
   ]
  },
  {
   "cell_type": "code",
   "execution_count": 42,
   "metadata": {},
   "outputs": [
    {
     "data": {
      "text/plain": [
       "-5332996661355439259"
      ]
     },
     "execution_count": 42,
     "metadata": {},
     "output_type": "execute_result"
    }
   ],
   "source": [
    "chain['b{}'.format(len(chain)+last_block)].prev_hash"
   ]
  },
  {
   "cell_type": "code",
   "execution_count": 47,
   "metadata": {},
   "outputs": [
    {
     "name": "stdout",
     "output_type": "stream",
     "text": [
      "pass\n",
      "Block 2 invalid\n",
      "Block 1 invalid\n"
     ]
    }
   ],
   "source": [
    "check_chain()"
   ]
  },
  {
   "cell_type": "code",
   "execution_count": 44,
   "metadata": {},
   "outputs": [],
   "source": [
    "def check_chain():\n",
    "    prev_b = -2\n",
    "    last_block = -1\n",
    "    previous_hash = hash(str(chain['b{}'.format(len(chain)+last_block-1)].transaction.from_key)+str(chain['b{}'.format(len(chain)+last_block-1)].transaction.SN))\n",
    "    \n",
    "        \n",
    "    \n",
    "    while len(chain) + prev_b +1 != 0:\n",
    "        if chain['b{}'.format(len(chain)+last_block)].prev_hash == previous_hash:\n",
    "            print ('pass')\n",
    "            prev_b = prev_b - 1\n",
    "            last_block = last_block - 1\n",
    "        else:\n",
    "            print ('Block {} invalid'.format(len(chain)+last_block))\n",
    "            prev_b = prev_b - 1\n",
    "            last_block = last_block - 1"
   ]
  },
  {
   "cell_type": "code",
   "execution_count": 28,
   "metadata": {},
   "outputs": [
    {
     "data": {
      "text/plain": [
       "4"
      ]
     },
     "execution_count": 28,
     "metadata": {},
     "output_type": "execute_result"
    }
   ],
   "source": [
    "len(chain)"
   ]
  },
  {
   "cell_type": "code",
   "execution_count": 45,
   "metadata": {},
   "outputs": [
    {
     "data": {
      "text/plain": [
       "{'b0': <__main__.block at 0x7f1ca45de668>}"
      ]
     },
     "execution_count": 45,
     "metadata": {},
     "output_type": "execute_result"
    }
   ],
   "source": [
    "chain"
   ]
  },
  {
   "cell_type": "code",
   "execution_count": 24,
   "metadata": {},
   "outputs": [
    {
     "data": {
      "text/plain": [
       "-4772341646734428181"
      ]
     },
     "execution_count": 24,
     "metadata": {},
     "output_type": "execute_result"
    }
   ],
   "source": [
    "x = 2\n",
    "hash(str(chain['b{}'.format(x)].transaction.from_key)+str(chain['b{}'.format(x)].transaction.SN))\n"
   ]
  },
  {
   "cell_type": "code",
   "execution_count": 46,
   "metadata": {},
   "outputs": [
    {
     "name": "stdout",
     "output_type": "stream",
     "text": [
      "part sent\n",
      "part sent\n",
      "part sent\n"
     ]
    },
    {
     "data": {
      "text/plain": [
       "{'b0': <__main__.block at 0x7f1ca45de668>,\n",
       " 'b1': <__main__.block at 0x7f1ca463d198>,\n",
       " 'b2': <__main__.block at 0x7f1ca463dc88>,\n",
       " 'b3': <__main__.block at 0x7f1ca463dbe0>}"
      ]
     },
     "execution_count": 46,
     "metadata": {},
     "output_type": "execute_result"
    }
   ],
   "source": [
    "a = wallet([123],'a','a1')\n",
    "b = wallet([],'b','b1')\n",
    "c = wallet([],'c','c1')\n",
    "d = wallet([],'d','d1')\n",
    "send(a,b,123)\n",
    "chain\n",
    "\n",
    "send(b,c,123)\n",
    "chain\n",
    "\n",
    "send(c,d,123)\n",
    "chain"
   ]
  },
  {
   "cell_type": "code",
   "execution_count": 16,
   "metadata": {},
   "outputs": [
    {
     "data": {
      "text/plain": [
       "{'b0': <__main__.block at 0x7f1ca4657198>,\n",
       " 'b1': <__main__.block at 0x7f1ca46b9588>,\n",
       " 'b2': <__main__.block at 0x7f1ca46b9780>}"
      ]
     },
     "execution_count": 16,
     "metadata": {},
     "output_type": "execute_result"
    }
   ],
   "source": [
    "chain"
   ]
  },
  {
   "cell_type": "code",
   "execution_count": 16,
   "metadata": {},
   "outputs": [
    {
     "data": {
      "text/plain": [
       "-8493687677552911038"
      ]
     },
     "execution_count": 16,
     "metadata": {},
     "output_type": "execute_result"
    }
   ],
   "source": [
    "hash((chain['b{}'.format(len(chain)-1)].transaction.from_key)+(chain['b{}'.format(len(chain)-1)].transaction.SN))"
   ]
  },
  {
   "cell_type": "code",
   "execution_count": 26,
   "metadata": {},
   "outputs": [],
   "source": [
    "chain['b1'].prev_hash = 2"
   ]
  },
  {
   "cell_type": "code",
   "execution_count": 11,
   "metadata": {},
   "outputs": [
    {
     "data": {
      "text/plain": [
       "1224576515108961723"
      ]
     },
     "execution_count": 11,
     "metadata": {},
     "output_type": "execute_result"
    }
   ],
   "source": [
    "chain['b1'].prev_hash"
   ]
  },
  {
   "cell_type": "code",
   "execution_count": null,
   "metadata": {},
   "outputs": [],
   "source": []
  }
 ],
 "metadata": {
  "kernelspec": {
   "display_name": "Python 3",
   "language": "python",
   "name": "python3"
  },
  "language_info": {
   "codemirror_mode": {
    "name": "ipython",
    "version": 3
   },
   "file_extension": ".py",
   "mimetype": "text/x-python",
   "name": "python",
   "nbconvert_exporter": "python",
   "pygments_lexer": "ipython3",
   "version": "3.6.5"
  }
 },
 "nbformat": 4,
 "nbformat_minor": 2
}
