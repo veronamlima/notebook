{
 "cells": [
  {
   "cell_type": "code",
   "execution_count": 139,
   "metadata": {},
   "outputs": [],
   "source": [
    "#Block\n",
    "blockchain = [hash('Genesis')]\n",
    "blocks = 0\n",
    "block= [\"genesis\"]\n",
    "\n",
    "#EXECUTING THIS RESETS THE CHAIN\n",
    "\n",
    "def transact(origin_key,destiny_key,content_sn):\n",
    "    \n",
    "    if content_sn in origin_key:\n",
    "    \n",
    "        previous_hash = blockchain[-1]\n",
    "        transaction_hash = hash(\"{}{}{}\".format(origin_key,destiny_key,content_sn))\n",
    "        block_hash = hash('{}{}'.format(previous_hash,transaction_hash))\n",
    "        print('Part sent!')\n",
    "        blockchain.append(block_hash)\n",
    "        \n",
    "        #transfering the part\n",
    "        \n",
    "        origin_key.pop(origin_key.index(content_sn))\n",
    "        destiny_key.append(content_sn)\n",
    "        \n",
    "\n",
    "    #hash count\n",
    "    \n",
    "        global blocks\n",
    "        blocks = blocks + 1\n",
    "    \n",
    "    #creating blocks database\n",
    "    \n",
    "        block.append([origin_key,destiny_key,content_sn])\n",
    "    \n",
    "    else:\n",
    "        \n",
    "        print(\"content not in your ledger!\")\n",
    "        \n",
    "     #block explorer\n",
    "    \n",
    "def blockData(block):\n",
    "    \n",
    "    print ('key origem:{}'.format(block[0][0]))\n",
    "    print ('key destino:{}'.format(block[1][0]))\n",
    "    print ('serial number:{}'.format(block[2]))\n",
    "    \n",
    "    #Wallet\n",
    "\n",
    "def wallet(key):\n",
    "    for item in key:\n",
    "        print(item)\n",
    "\n",
    "    #open wallet\n",
    "    \n",
    "def generate_wallet():\n",
    "    import string\n",
    "    import random\n",
    "    print('Your wallet is: {}'.format(''.join(random.choices(string.ascii_uppercase + string.digits, k=8))))\n",
    "    print('Keep it safe!')\n",
    "\n",
    "#criar def Register(key)\n",
    "    "
   ]
  },
  {
   "cell_type": "code",
   "execution_count": 115,
   "metadata": {},
   "outputs": [
    {
     "name": "stdout",
     "output_type": "stream",
     "text": [
      "Your wallet is: VYYY715S\n",
      "Keep it safe!\n"
     ]
    }
   ],
   "source": [
    "generate_wallet()"
   ]
  },
  {
   "cell_type": "code",
   "execution_count": 59,
   "metadata": {},
   "outputs": [
    {
     "name": "stdout",
     "output_type": "stream",
     "text": [
      "key origem:aAS4E3534TW\n",
      "key destino:dAD43278HFSJ\n",
      "serial number:SN7338289174\n"
     ]
    }
   ],
   "source": [
    "blockData(block[2])"
   ]
  },
  {
   "cell_type": "code",
   "execution_count": 48,
   "metadata": {},
   "outputs": [
    {
     "data": {
      "text/plain": [
       "[2689141822139903839]"
      ]
     },
     "execution_count": 48,
     "metadata": {},
     "output_type": "execute_result"
    }
   ],
   "source": [
    "blockchain"
   ]
  },
  {
   "cell_type": "code",
   "execution_count": 49,
   "metadata": {},
   "outputs": [
    {
     "data": {
      "text/plain": [
       "['genesis']"
      ]
     },
     "execution_count": 49,
     "metadata": {},
     "output_type": "execute_result"
    }
   ],
   "source": [
    "block"
   ]
  },
  {
   "cell_type": "code",
   "execution_count": 56,
   "metadata": {},
   "outputs": [
    {
     "name": "stdout",
     "output_type": "stream",
     "text": [
      "Part sent!\n",
      "[2689141822139903839, -2230853134579743046]\n",
      "1\n"
     ]
    }
   ],
   "source": [
    "transact(AsJd3afkajf14d4,aAS4E3534TW,'SN7338289174')\n",
    "print(blockchain)\n",
    "print(blocks)"
   ]
  },
  {
   "cell_type": "code",
   "execution_count": 8,
   "metadata": {},
   "outputs": [],
   "source": [
    "AsJd3afkajf14d4 = ['AsJd3afkajf14d4']\n",
    "aAS4E3534TW = ['aAS4E3534TW']\n",
    "dAD43278HFSJ = ['dAD43278HFSJ']"
   ]
  },
  {
   "cell_type": "code",
   "execution_count": 55,
   "metadata": {},
   "outputs": [
    {
     "data": {
      "text/plain": [
       "['AsJd3afkajf14d4', 'SN7338289174']"
      ]
     },
     "execution_count": 55,
     "metadata": {},
     "output_type": "execute_result"
    }
   ],
   "source": [
    "AsJd3afkajf14d4"
   ]
  },
  {
   "cell_type": "code",
   "execution_count": 37,
   "metadata": {},
   "outputs": [
    {
     "data": {
      "text/plain": [
       "['aAS4E3534TW']"
      ]
     },
     "execution_count": 37,
     "metadata": {},
     "output_type": "execute_result"
    }
   ],
   "source": [
    "aAS4E3534TW"
   ]
  },
  {
   "cell_type": "code",
   "execution_count": 51,
   "metadata": {},
   "outputs": [
    {
     "data": {
      "text/plain": [
       "'SN7338289174'"
      ]
     },
     "execution_count": 51,
     "metadata": {},
     "output_type": "execute_result"
    }
   ],
   "source": [
    "dAD43278HFSJ"
   ]
  },
  {
   "cell_type": "code",
   "execution_count": 58,
   "metadata": {},
   "outputs": [
    {
     "name": "stdout",
     "output_type": "stream",
     "text": [
      "Part sent!\n",
      "[2689141822139903839, -2230853134579743046, -4667358574149601349]\n",
      "2\n"
     ]
    }
   ],
   "source": [
    "transact(aAS4E3534TW,dAD43278HFSJ,'SN7338289174')\n",
    "print(blockchain)\n",
    "print(blocks)"
   ]
  },
  {
   "cell_type": "code",
   "execution_count": 79,
   "metadata": {},
   "outputs": [
    {
     "name": "stdout",
     "output_type": "stream",
     "text": [
      "key origem:aAS4E3534TW\n",
      "key destino:dAD43278HFSJ\n",
      "serial number:SN7338289174\n"
     ]
    }
   ],
   "source": [
    "blockData(block[2])"
   ]
  },
  {
   "cell_type": "code",
   "execution_count": 126,
   "metadata": {},
   "outputs": [
    {
     "name": "stdout",
     "output_type": "stream",
     "text": [
      "dAD43278HFSJ\n"
     ]
    }
   ],
   "source": [
    "wallet(dAD43278HFSJ)"
   ]
  }
 ],
 "metadata": {
  "kernelspec": {
   "display_name": "Python 3",
   "language": "python",
   "name": "python3"
  },
  "language_info": {
   "codemirror_mode": {
    "name": "ipython",
    "version": 3
   },
   "file_extension": ".py",
   "mimetype": "text/x-python",
   "name": "python",
   "nbconvert_exporter": "python",
   "pygments_lexer": "ipython3",
   "version": "3.6.5"
  }
 },
 "nbformat": 4,
 "nbformat_minor": 2
}
